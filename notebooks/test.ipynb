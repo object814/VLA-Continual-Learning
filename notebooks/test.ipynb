{
 "cells": [
  {
   "cell_type": "code",
   "execution_count": 3,
   "metadata": {},
   "outputs": [
    {
     "name": "stdout",
     "output_type": "stream",
     "text": [
      "tf.Tensor([ 1 -1 -1], shape=(3,), dtype=int32)\n",
      "tf.Tensor([1 0 0], shape=(3,), dtype=int32)\n",
      "tf.Tensor([0 1 1], shape=(3,), dtype=int32)\n"
     ]
    }
   ],
   "source": [
    "import tensorflow as tf\n",
    "\n",
    "# each action = [0,0,0,0,0,0,1] or [0,0,0,0,0,0,-1]\n",
    "# 10 actions in total\n",
    "actions = tf.constant([[0,0,0,0,0,0,1], [0,0,0,0,0,0,-1], [0,0,0,0,0,0,-1]])\n",
    "gripper_action = actions[:, -1]\n",
    "print(gripper_action)\n",
    "\n",
    "def invert_gripper_actions(actions: tf.Tensor) -> tf.Tensor:\n",
    "    return 1 - actions\n",
    "\n",
    "gripper_action = tf.clip_by_value(gripper_action, 0, 1)\n",
    "print(gripper_action)\n",
    "gripper_action = invert_gripper_actions(gripper_action)\n",
    "\n",
    "print(gripper_action)"
   ]
  }
 ],
 "metadata": {
  "kernelspec": {
   "display_name": "VLA_CL_2",
   "language": "python",
   "name": "python3"
  },
  "language_info": {
   "codemirror_mode": {
    "name": "ipython",
    "version": 3
   },
   "file_extension": ".py",
   "mimetype": "text/x-python",
   "name": "python",
   "nbconvert_exporter": "python",
   "pygments_lexer": "ipython3",
   "version": "3.10.0"
  }
 },
 "nbformat": 4,
 "nbformat_minor": 2
}
